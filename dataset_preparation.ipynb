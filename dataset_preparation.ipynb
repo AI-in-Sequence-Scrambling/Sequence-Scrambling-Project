{
 "cells": [
  {
   "cell_type": "code",
   "execution_count": null,
   "metadata": {},
   "outputs": [],
   "source": [
    "# Import required python packages\n",
    "import pandas as pd\n",
    "import importlib\n",
    "import matplotlib.pyplot as plt\n",
    "import csv"
   ]
  },
  {
   "cell_type": "code",
   "execution_count": null,
   "metadata": {},
   "outputs": [],
   "source": [
    "# import required helper functions\n",
    "from helper_functions import params\n",
    "from helper_functions import feature_engineering as feature_eng"
   ]
  },
  {
   "cell_type": "markdown",
   "metadata": {},
   "source": [
    "### Data Loading"
   ]
  },
  {
   "cell_type": "code",
   "execution_count": null,
   "metadata": {},
   "outputs": [],
   "source": [
    "# Load all relevant preprocessed datasets\n",
    "df_sqa = pd.read_csv(params.filepath_project_folder + '\\SQA_full_prepro_data.csv', index_col=0)\n",
    "df_PrNrn_raw = pd.read_csv(params.filepath_project_folder + '\\PrNrn_prepro_data.csv', index_col=0)\n",
    "df_A600 = pd.read_csv(params.filepath_project_folder + '\\extra_features\\A600_Date.csv', index_col=0)\n",
    "df_isoweekday = pd.read_csv(params.filepath_project_folder + '\\extra_features\\isoweekday_feature.csv', index_col=0)\n",
    "df_kaco_laco = pd.read_csv(params.filepath_project_folder + '\\extra_features\\kaco_laco_PrNrn.csv', index_col=0)\n",
    "df_ZP8_planned = pd.read_csv(params.filepath_project_folder + '\\extra_features\\ZP8_planned_dates.csv', index_col=0)\n",
    "df_sequence_micro = pd.read_csv(params.filepath_project_folder + '\\extra_features\\PrNrn_sequence_micro.csv', index_col=0)\n",
    "df_sequence_macro = pd.read_csv(params.filepath_project_folder + '\\extra_features\\PrNrn_sequence_macro.csv', index_col=0)\n",
    "df_sequence_kaco_micro = pd.read_csv(params.filepath_project_folder + '\\extra_features\\kaco_sequence_micro.csv', index_col=0)\n",
    "df_sequence_kaco_macro = pd.read_csv(params.filepath_project_folder + '\\extra_features\\kaco_sequence_macro.csv', index_col=0)"
   ]
  },
  {
   "cell_type": "markdown",
   "metadata": {},
   "source": [
    "### Join Features"
   ]
  },
  {
   "cell_type": "code",
   "execution_count": null,
   "metadata": {},
   "outputs": [],
   "source": [
    "# Join KacoLaco feature, dates and sequence micro (neighborhood) features\n",
    "df_features_sequence_micro_kaco = df_kaco_laco.join(df_ZP8_planned).join(df_isoweekday).join(df_sequence_kaco_micro)\n",
    "\n",
    "# Join KacoLaco feature, dates and sequence macro (batch) features\n",
    "df_features_sequence_macro_kaco = df_kaco_laco.join(df_ZP8_planned).join(df_isoweekday).join(df_sequence_kaco_macro)\n",
    "\n",
    "# Save both to separate csv files\n",
    "df_features_sequence_micro_kaco.to_csv(params.filepath_project_folder + '\\\\features_sequence_micro_kaco.csv')\n",
    "df_features_sequence_macro_kaco.to_csv(params.filepath_project_folder + '\\\\features_sequence_macro_kaco.csv')"
   ]
  },
  {
   "cell_type": "code",
   "execution_count": null,
   "metadata": {},
   "outputs": [],
   "source": [
    "# Join Prnrn features, dates and sequence features\n",
    "df_features_full = df_PrNrn_raw.join(df_ZP8_planned).join(df_isoweekday)\n",
    "df_features_kaco = df_kaco_laco.join(df_ZP8_planned).join(df_isoweekday)\n",
    "df_features_sequence_full = df_PrNrn_raw.join(df_ZP8_planned).join(df_isoweekday).join(df_sequence_micro).join(df_sequence_macro)\n",
    "df_features_sequence_kaco = df_kaco_laco.join(df_ZP8_planned).join(df_isoweekday).join(df_sequence_kaco_micro).join(df_sequence_kaco_macro)\n",
    "\n",
    "# Store all to separate csv files\n",
    "df_features_full.to_csv(params.filepath_project_folder + '\\\\features_full.csv')\n",
    "df_features_kaco.to_csv(params.filepath_project_folder + '\\\\features_kaco.csv')\n",
    "df_features_sequence_full.to_csv(params.filepath_project_folder + '\\\\features_sequence_full.csv')\n",
    "df_features_sequence_kaco.to_csv(params.filepath_project_folder + '\\\\features_sequence_kaco.csv')"
   ]
  },
  {
   "cell_type": "markdown",
   "metadata": {},
   "source": [
    "### Manual Feature Selection"
   ]
  },
  {
   "cell_type": "code",
   "execution_count": null,
   "metadata": {},
   "outputs": [],
   "source": [
    "# Select PrFams to be removed from dataset to reduce complexity\n",
    "# SAU, SIZ, BTA sind semantisch durch TPL (=Typprüfland) abgedeckt\n",
    "\n",
    "importlib.reload(feature_eng)\n",
    "\n",
    "# Remove manual selected features from PrNrn dataframe and store in new csv file\n",
    "df_PrNrn_sampled = feature_eng.remove_PrFams(df_PrNrn_raw, params.manual_remove)\n",
    "df_PrNrn_sampled.to_csv(params.filepath_project_folder + '\\\\PrNrn_sampled.csv')\n",
    "\n",
    "# Remove manual selected features from full features dataframe and store in new csv file\n",
    "df_features_sampled = df_PrNrn_sampled.join(df_ZP8_planned).join(df_isoweekday)\n",
    "df_features_sampled.to_csv(params.filepath_project_folder + '\\\\features_sampled.csv')\n",
    "\n",
    "# Remove manual selected features from full + sequence dataframe and store in new csv file\n",
    "df_features_sequence_full_sampled = feature_eng.remove_PrFams(df_features_sequence_full, remove)\n",
    "df_features_sequence_full_sampled.to_csv(params.filepath_project_folder + '\\\\features_sequence_full_sampled.csv')\n",
    "\n",
    "# Remove manual selected features from kacolaco + sequence dataframe and store in new csv file\n",
    "df_features_sequence_kaco_sampled = feature_eng.remove_PrFams(df_features_sequence_kaco, remove)\n",
    "df_features_sequence_kaco_sampled.to_csv(params.filepath_project_folder + '\\\\features_sequence_kaco_sampled.csv')"
   ]
  },
  {
   "cell_type": "markdown",
   "metadata": {},
   "source": [
    "### Automated Feature Reduction"
   ]
  },
  {
   "cell_type": "code",
   "execution_count": null,
   "metadata": {},
   "outputs": [],
   "source": [
    "#  Perform automated grouping of correlated features\n",
    "df_features_full_reduced = feature_eng.feature_grouping(df_features_full, '\\full', False)\n",
    "df_features_kaco_reduced = feature_eng.feature_grouping(df_features_kaco, '\\kaco', False)\n",
    "df_features_sampled_reduced = feature_eng.feature_grouping(df_features_sampled, '\\sampled', False)\n",
    "\n",
    "# Store to new csv files\n",
    "df_features_full_reduced.to_csv(filepath + '\\\\features_full_reduced.csv')\n",
    "df_features_kaco_reduced.to_csv(filepath + '\\\\features_kaco_reduced.csv')\n",
    "df_features_sampled_reduced.to_csv(filepath + '\\\\features_sampled_reduced.csv')"
   ]
  }
 ],
 "metadata": {
  "kernelspec": {
   "display_name": "Python 3",
   "language": "python",
   "name": "python3"
  },
  "language_info": {
   "codemirror_mode": {
    "name": "ipython",
    "version": 3
   },
   "file_extension": ".py",
   "mimetype": "text/x-python",
   "name": "python",
   "nbconvert_exporter": "python",
   "pygments_lexer": "ipython3",
   "version": "3.8.8"
  }
 },
 "nbformat": 4,
 "nbformat_minor": 2
}
